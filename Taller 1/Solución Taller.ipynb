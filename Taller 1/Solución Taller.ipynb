{
 "cells": [
  {
   "cell_type": "markdown",
   "metadata": {
    "application/vnd.databricks.v1+cell": {
     "cellMetadata": {
      "byteLimit": 2048000,
      "rowLimit": 10000
     },
     "inputWidgets": {},
     "nuid": "440b90b6-e9f5-41fb-8e1a-616305d24d5e",
     "showTitle": false,
     "tableResultSettingsMap": {},
     "title": ""
    }
   },
   "source": [
    "# Proyecto - Parte 1 \n",
    "## SID 2025-20\n",
    "\n",
    "| Estudiante | Codigo | Maestria |\n",
    "| :------- | :------: | -------: |\n",
    "| David | 123 | MATI |\n",
    "| Jhony | 123 | MATI |\n",
    "| Nicolas Medina | 123 | MATI |\n",
    "\n",
    "a continuacion se detalla la solución planteada para la primera parte del proyecto"
   ]
  },
  {
   "cell_type": "markdown",
   "metadata": {
    "application/vnd.databricks.v1+cell": {
     "cellMetadata": {
      "byteLimit": 2048000,
      "rowLimit": 10000
     },
     "inputWidgets": {},
     "nuid": "fdf3a229-8ede-431a-9ddd-5b512e9b335e",
     "showTitle": false,
     "tableResultSettingsMap": {},
     "title": ""
    }
   },
   "source": [
    "## Importar librerias/Funciones"
   ]
  },
  {
   "cell_type": "code",
   "execution_count": 0,
   "metadata": {
    "application/vnd.databricks.v1+cell": {
     "cellMetadata": {
      "byteLimit": 2048000,
      "rowLimit": 10000
     },
     "inputWidgets": {},
     "nuid": "7cce7357-5eb6-4a90-8b8c-bffeaf6635ea",
     "showTitle": false,
     "tableResultSettingsMap": {},
     "title": ""
    }
   },
   "outputs": [],
   "source": [
    "from pyspark.sql import functions as f\n",
    "import pyspark.sql as sql\n",
    "from pyspark.sql.functions import col, regexp_replace ,desc\n",
    "from pyspark.sql.types import LongType,DecimalType\n",
    "from pyspark.sql.window import Window"
   ]
  },
  {
   "cell_type": "markdown",
   "metadata": {
    "application/vnd.databricks.v1+cell": {
     "cellMetadata": {
      "byteLimit": 2048000,
      "rowLimit": 10000
     },
     "inputWidgets": {},
     "nuid": "a5b79a90-2aa8-4121-a443-0888abc7ad95",
     "showTitle": false,
     "tableResultSettingsMap": {},
     "title": ""
    }
   },
   "source": [
    "## Lectura de datos"
   ]
  },
  {
   "cell_type": "code",
   "execution_count": 0,
   "metadata": {
    "application/vnd.databricks.v1+cell": {
     "cellMetadata": {
      "byteLimit": 2048000,
      "rowLimit": 10000
     },
     "inputWidgets": {},
     "nuid": "a89b4336-650d-4f1b-b42f-fe2d46217646",
     "showTitle": false,
     "tableResultSettingsMap": {},
     "title": ""
    }
   },
   "outputs": [],
   "source": [
    "df_secop = spark.read.format(\"json\") \\\n",
    "    .load(\"wasbs://sid@uniandesyjt.blob.core.windows.net/secop/\")\n",
    "\n",
    "df_secop.printSchema()"
   ]
  },
  {
   "cell_type": "code",
   "execution_count": 0,
   "metadata": {
    "application/vnd.databricks.v1+cell": {
     "cellMetadata": {
      "byteLimit": 2048000,
      "rowLimit": 10000
     },
     "inputWidgets": {},
     "nuid": "6934024c-8400-42eb-bd8a-8d2ccdb1bdb7",
     "showTitle": false,
     "tableResultSettingsMap": {
      "0": {
       "dataGridStateBlob": null,
       "filterBlob": "{\"version\":1,\"filterGroups\":[{\"enabled\":true,\"filterGroupId\":\"fg_b5088708\",\"op\":\"OR\",\"filters\":[{\"filterId\":\"f_464dd1bd\",\"enabled\":true,\"columnId\":\"documento_proveedor\",\"dataType\":\"string\",\"filterType\":\"oneof\"}],\"local\":false,\"updatedAt\":1758248382083}],\"syncTimestamp\":1758248382084}",
       "queryPlanFiltersBlob": "[]",
       "tableResultIndex": 0
      }
     },
     "title": ""
    }
   },
   "outputs": [],
   "source": [
    "display(df_secop.head(5))"
   ]
  },
  {
   "cell_type": "code",
   "execution_count": 0,
   "metadata": {
    "application/vnd.databricks.v1+cell": {
     "cellMetadata": {
      "byteLimit": 2048000,
      "rowLimit": 10000
     },
     "inputWidgets": {},
     "nuid": "ee4a3557-31e8-499a-aee0-eba04f0e726b",
     "showTitle": false,
     "tableResultSettingsMap": {},
     "title": ""
    }
   },
   "outputs": [],
   "source": [
    "df_bpin = spark.read \\\n",
    "    .option(\"header\", \"true\") \\\n",
    "    .format(\"csv\")\\\n",
    "    .load(\"wasbs://sid@uniandesyjt.blob.core.windows.net/bpin/\")\n",
    "\n",
    "df_bpin.printSchema()"
   ]
  },
  {
   "cell_type": "code",
   "execution_count": 0,
   "metadata": {
    "application/vnd.databricks.v1+cell": {
     "cellMetadata": {
      "byteLimit": 2048000,
      "rowLimit": 10000
     },
     "inputWidgets": {},
     "nuid": "9cadb542-b4b7-4741-9ba3-5f81623daf9e",
     "showTitle": false,
     "tableResultSettingsMap": {},
     "title": ""
    }
   },
   "outputs": [],
   "source": [
    "display(df_bpin.head(10))"
   ]
  },
  {
   "cell_type": "markdown",
   "metadata": {
    "application/vnd.databricks.v1+cell": {
     "cellMetadata": {
      "byteLimit": 2048000,
      "rowLimit": 10000
     },
     "inputWidgets": {},
     "nuid": "c087663b-8e05-4d67-9b40-592c2a88e446",
     "showTitle": false,
     "tableResultSettingsMap": {},
     "title": ""
    }
   },
   "source": [
    "# Punto 1:\n",
    "Lea los dos conjuntos de datos. Escriba el código para que la lectura sea lo más rápida\n",
    "posible y justifique su respuesta. (9%)"
   ]
  },
  {
   "cell_type": "markdown",
   "metadata": {
    "application/vnd.databricks.v1+cell": {
     "cellMetadata": {
      "byteLimit": 2048000,
      "rowLimit": 10000
     },
     "inputWidgets": {},
     "nuid": "54434be3-cb1e-4de8-acc1-06ef6a398055",
     "showTitle": false,
     "tableResultSettingsMap": {},
     "title": ""
    }
   },
   "source": [
    "## Sampling\n",
    "En las siguientes celdas hacemos la lectura con sampling ratio buscando reducir el tiempo de lectura del schema pero de todas formas aunque es inferior no es el mas optimo"
   ]
  },
  {
   "cell_type": "code",
   "execution_count": 0,
   "metadata": {
    "application/vnd.databricks.v1+cell": {
     "cellMetadata": {
      "byteLimit": 2048000,
      "rowLimit": 10000
     },
     "inputWidgets": {},
     "nuid": "6cf83c62-50ed-4044-b91f-efa38ca23748",
     "showTitle": false,
     "tableResultSettingsMap": {},
     "title": ""
    }
   },
   "outputs": [],
   "source": [
    "df_secop = spark.read.format(\"json\") \\\n",
    "    .option(\"samplingRatio\", 0.1) \\\n",
    "    .load(\"wasbs://sid@uniandesyjt.blob.core.windows.net/secop/\")"
   ]
  },
  {
   "cell_type": "code",
   "execution_count": 0,
   "metadata": {
    "application/vnd.databricks.v1+cell": {
     "cellMetadata": {
      "byteLimit": 2048000,
      "rowLimit": 10000
     },
     "inputWidgets": {},
     "nuid": "ea0e0f19-5848-4087-a631-1fbd3986398f",
     "showTitle": false,
     "tableResultSettingsMap": {},
     "title": ""
    }
   },
   "outputs": [],
   "source": [
    "df_bpin = spark.read.format(\"csv\") \\\n",
    "    .option(\"header\", \"true\")\\\n",
    "    .option(\"samplingRatio\", 0.1) \\\n",
    "    .load(\"wasbs://sid@uniandesyjt.blob.core.windows.net/bpin/\")"
   ]
  },
  {
   "cell_type": "markdown",
   "metadata": {
    "application/vnd.databricks.v1+cell": {
     "cellMetadata": {
      "byteLimit": 2048000,
      "rowLimit": 10000
     },
     "inputWidgets": {},
     "nuid": "f9ff9489-7fc2-48c5-9158-bc422620b7a9",
     "showTitle": false,
     "tableResultSettingsMap": {},
     "title": ""
    }
   },
   "source": [
    "## Insertando Schema\n",
    "Si ya conocemos la estructura de los datos podemos colocar el schema para evitar abrir los archivos para conocer el schema de los datos"
   ]
  },
  {
   "cell_type": "code",
   "execution_count": 0,
   "metadata": {
    "application/vnd.databricks.v1+cell": {
     "cellMetadata": {
      "byteLimit": 2048000,
      "rowLimit": 10000
     },
     "inputWidgets": {},
     "nuid": "eb7d9425-00c9-407a-a8a6-9bff541a73c3",
     "showTitle": false,
     "tableResultSettingsMap": {},
     "title": ""
    }
   },
   "outputs": [],
   "source": [
    "from pyspark.sql.types import StructType, StructField, StringType, LongType, IntegerType\n",
    "\n",
    "schema = StructType([\n",
    "    StructField(\"anno_bpin\", StringType(), True),\n",
    "    StructField(\"anno_firma\", IntegerType(), True),\n",
    "    StructField(\"ciudad\", StringType(), True),\n",
    "    StructField(\"código_bpin\", StringType(), True),\n",
    "    StructField(\"departamento\", StringType(), True),\n",
    "    StructField(\"documento_proveedor\", StringType(), True),\n",
    "    StructField(\"duración_del_contrato\", StringType(), True),\n",
    "    StructField(\"entidad_centralizada\", StringType(), True),\n",
    "    StructField(\"estado_contrato\", StringType(), True),\n",
    "    StructField(\"fecha_de_fin_del_contrato\", StringType(), True),\n",
    "    StructField(\"fecha_de_firma\", StringType(), True),\n",
    "    StructField(\"fecha_de_inicio_del_contrato\", StringType(), True),\n",
    "    StructField(\"modalidad_de_contratacion\", StringType(), True),\n",
    "    StructField(\"objeto_del_contrato\", StringType(), True),\n",
    "    StructField(\"orden\", StringType(), True),\n",
    "    StructField(\"origen_de_los_recursos\", StringType(), True),\n",
    "    StructField(\"proveedor_adjudicado\", StringType(), True),\n",
    "    StructField(\"rama\", StringType(), True),\n",
    "    StructField(\"sector\", StringType(), True),\n",
    "    StructField(\"tipo_de_contrato\", StringType(), True),\n",
    "    StructField(\"tipodocproveedor\", StringType(), True),\n",
    "    StructField(\"ultima_actualizacion\", StringType(), True),\n",
    "    StructField(\"urlproceso\", StringType(), True),\n",
    "    StructField(\"valor_del_contrato\", LongType(), True),\n",
    "    StructField(\"valor_pagado\", StringType(), True),\n",
    "])\n",
    "\n",
    "df_secop = spark.read.format(\"json\") \\\n",
    "    .schema(schema) \\\n",
    "    .load(\"wasbs://sid@uniandesyjt.blob.core.windows.net/secop/\")\n"
   ]
  },
  {
   "cell_type": "code",
   "execution_count": 0,
   "metadata": {
    "application/vnd.databricks.v1+cell": {
     "cellMetadata": {
      "byteLimit": 2048000,
      "rowLimit": 10000
     },
     "inputWidgets": {},
     "nuid": "47b2f882-4bfa-444e-a9ee-57fa73376863",
     "showTitle": false,
     "tableResultSettingsMap": {},
     "title": ""
    }
   },
   "outputs": [],
   "source": [
    "schema = StructType([\n",
    "    StructField(\"Bpin\", StringType(), True),\n",
    "    StructField(\"NombreProyecto\", StringType(), True),\n",
    "    StructField(\"ObjetivoGeneral\", StringType(), True),\n",
    "    StructField(\"EstadoProyecto\", StringType(), True),\n",
    "    StructField(\"Horizonte\", StringType(), True),\n",
    "    StructField(\"Sector\", StringType(), True),\n",
    "    StructField(\"EntidadResponsable\", StringType(), True),\n",
    "    StructField(\"ProgramaPresupuestal\", StringType(), True),\n",
    "    StructField(\"TipoProyecto\", StringType(), True),\n",
    "    StructField(\"PlanDesarrolloNacional\", StringType(), True),\n",
    "    StructField(\"ValorTotalProyecto\", StringType(), True),\n",
    "    StructField(\"ValorVigenteProyecto\", StringType(), True),\n",
    "    StructField(\"ValorObligacionProyecto\", StringType(), True),\n",
    "    StructField(\"ValorPagoProyecto\", StringType(), True),\n",
    "    StructField(\"SubEstadoProyecto\", StringType(), True),\n",
    "    StructField(\"CodigoEntidadResponsable\", StringType(), True),\n",
    "    StructField(\"TotalBeneficiario\", StringType(), True),\n",
    "])\n",
    "\n",
    "df_bpin = spark.read.format(\"csv\") \\\n",
    "    .schema(schema) \\\n",
    "    .option(\"header\", \"true\")\\\n",
    "    .load(\"wasbs://sid@uniandesyjt.blob.core.windows.net/bpin/\")\n",
    "\n"
   ]
  },
  {
   "cell_type": "markdown",
   "metadata": {
    "application/vnd.databricks.v1+cell": {
     "cellMetadata": {
      "byteLimit": 2048000,
      "rowLimit": 10000
     },
     "inputWidgets": {},
     "nuid": "3376d6de-db3a-48d2-98b8-1ec2fe8127c7",
     "showTitle": false,
     "tableResultSettingsMap": {},
     "title": ""
    }
   },
   "source": [
    "# Punto 2:\n",
    "Identifique los 10 proveedores que han tenido el mayor valor de contratos durante el año\n",
    "2024. (13%)"
   ]
  },
  {
   "cell_type": "markdown",
   "metadata": {
    "application/vnd.databricks.v1+cell": {
     "cellMetadata": {
      "byteLimit": 2048000,
      "rowLimit": 10000
     },
     "inputWidgets": {},
     "nuid": "7ea16157-c298-4c01-9b69-8d3a1d120bd0",
     "showTitle": false,
     "tableResultSettingsMap": {},
     "title": ""
    }
   },
   "source": [
    "## Arreglar Columna\n",
    "\n",
    "Convertir la columna valor pagado a BigInt"
   ]
  },
  {
   "cell_type": "code",
   "execution_count": 0,
   "metadata": {
    "application/vnd.databricks.v1+cell": {
     "cellMetadata": {
      "byteLimit": 2048000,
      "rowLimit": 10000
     },
     "inputWidgets": {},
     "nuid": "893ea97e-43aa-49dd-ae94-ec3983d8fea2",
     "showTitle": false,
     "tableResultSettingsMap": {},
     "title": ""
    }
   },
   "outputs": [],
   "source": [
    "df_secop = df_secop.withColumn(\n",
    "    \"valor_pagado_num\",\n",
    "    regexp_replace(col(\"valor_pagado\"), \"[^0-9]\", \"\").cast(LongType())\n",
    ")"
   ]
  },
  {
   "cell_type": "markdown",
   "metadata": {
    "application/vnd.databricks.v1+cell": {
     "cellMetadata": {
      "byteLimit": 2048000,
      "rowLimit": 10000
     },
     "inputWidgets": {},
     "nuid": "6ca7153a-92c4-4b06-9486-556bebb30408",
     "showTitle": false,
     "tableResultSettingsMap": {},
     "title": ""
    }
   },
   "source": [
    "## Agregar Datos - SPARK"
   ]
  },
  {
   "cell_type": "code",
   "execution_count": 0,
   "metadata": {
    "application/vnd.databricks.v1+cell": {
     "cellMetadata": {
      "byteLimit": 2048000,
      "rowLimit": 10000
     },
     "inputWidgets": {},
     "nuid": "6823107b-7e6d-4026-af98-254f2ff44b13",
     "showTitle": false,
     "tableResultSettingsMap": {
      "0": {
       "dataGridStateBlob": "{\"version\":1,\"tableState\":{\"columnPinning\":{\"left\":[\"#row_number#\"],\"right\":[]},\"columnSizing\":{},\"columnVisibility\":{}},\"settings\":{\"columns\":{}},\"syncTimestamp\":1758250930094}",
       "filterBlob": null,
       "queryPlanFiltersBlob": null,
       "tableResultIndex": 0
      }
     },
     "title": ""
    }
   },
   "outputs": [],
   "source": [
    "(\n",
    "    df_secop\n",
    "    .groupBy(\n",
    "        f.col('documento_proveedor').alias('nit'),\n",
    "        f.col('proveedor_adjudicado').alias('nombre')\n",
    "    )\n",
    "    .agg(\n",
    "        f.count(f.col('documento_proveedor')).alias('contratos'),\n",
    "        f.sum(f.col('valor_del_contrato')).alias('valor'),\n",
    "        f.sum('valor_pagado_num').alias('pagado')\n",
    "    )\n",
    "    .orderBy(f.col('valor').desc())\n",
    "    .limit(10)\n",
    "    .withColumn('% Pago', f.round(f.col('pagado') / f.col('valor'), 2))\n",
    "    .display()\n",
    ")"
   ]
  },
  {
   "cell_type": "markdown",
   "metadata": {
    "application/vnd.databricks.v1+cell": {
     "cellMetadata": {
      "byteLimit": 2048000,
      "rowLimit": 10000
     },
     "inputWidgets": {},
     "nuid": "efe9f3cb-a56b-4670-aabb-9abfa31c9358",
     "showTitle": false,
     "tableResultSettingsMap": {},
     "title": ""
    }
   },
   "source": [
    "## Agregar Datos - SPARK sql"
   ]
  },
  {
   "cell_type": "code",
   "execution_count": 0,
   "metadata": {
    "application/vnd.databricks.v1+cell": {
     "cellMetadata": {
      "byteLimit": 2048000,
      "rowLimit": 10000
     },
     "inputWidgets": {},
     "nuid": "63fdd96c-1f2b-47dc-ab7c-889ba0d875f3",
     "showTitle": false,
     "tableResultSettingsMap": {
      "0": {
       "dataGridStateBlob": "{\"version\":1,\"tableState\":{\"columnPinning\":{\"left\":[\"#row_number#\"],\"right\":[]},\"columnSizing\":{},\"columnVisibility\":{}},\"settings\":{\"columns\":{}},\"syncTimestamp\":1758251910262}",
       "filterBlob": null,
       "queryPlanFiltersBlob": null,
       "tableResultIndex": 0
      }
     },
     "title": ""
    }
   },
   "outputs": [],
   "source": [
    "df_secop.createOrReplaceTempView(\"secop\")\n",
    "\n",
    "spark.sql(\"\"\"\n",
    "SELECT \n",
    "    documento_proveedor as nit, \n",
    "    proveedor_adjudicado as nombre,\n",
    "    sum(valor_del_contrato) as valor, \n",
    "    sum(valor_pagado_num) as pagado,\n",
    "    round(TRY_DIVIDE(sum(valor_pagado_num),sum(valor_del_contrato)),2) as `% Pago`\n",
    "FROM secop\n",
    "GROUP BY documento_proveedor, proveedor_adjudicado\n",
    "ORDER BY valor DESC\n",
    "LIMIT 10\n",
    "\"\"\").display()"
   ]
  },
  {
   "cell_type": "markdown",
   "metadata": {
    "application/vnd.databricks.v1+cell": {
     "cellMetadata": {
      "byteLimit": 2048000,
      "rowLimit": 10000
     },
     "inputWidgets": {},
     "nuid": "65a8f679-cb32-4659-b831-be57edfa6c66",
     "showTitle": false,
     "tableResultSettingsMap": {},
     "title": ""
    }
   },
   "source": [
    "#Punto 3:\n",
    "Identifique los 10 Proyectos de inversión que han tenido el mayor valor de contratos sin\n",
    "pagar (valor del contrato menos el valor pagado). La respuesta debe incluir el nombre de\n",
    "los proyectos y el valor sin pagar. (13%)\n"
   ]
  },
  {
   "cell_type": "code",
   "execution_count": 0,
   "metadata": {
    "application/vnd.databricks.v1+cell": {
     "cellMetadata": {
      "byteLimit": 2048000,
      "rowLimit": 10000
     },
     "inputWidgets": {},
     "nuid": "6f9d4310-9096-4883-bb58-b40cbc28ddc4",
     "showTitle": false,
     "tableResultSettingsMap": {},
     "title": ""
    }
   },
   "outputs": [],
   "source": [
    "df_secop_std = f.coalesce(f.col(\"valor_pagado\").cast(\"string\"), f.lit(\"0\")) #Estandarizamos los valores sin null por 0\n",
    "#Limpiamos digitos y signos\n",
    "df_secop_std = f.regexp_replace(df_secop_std, r\"[^0-9]\", \"\") #Quitamos espacios y $\n",
    "df_secop_std = f.regexp_replace(df_secop_std, \",\", \"\") #Quitamos la coma\n",
    "df_secop_std = df_secop_std.cast(DecimalType(20,2))\n",
    "\n",
    "#Generamos un df con la info necesaria\n",
    "df_secop_norm_p3 = (\n",
    "    df_secop\n",
    "        .withColumn(\"Bpin\", f.trim(f.col(\"código_bpin\"))).alias(\"Bpin\")\n",
    "        .withColumn(\"valor_del_contrato\", f.col(\"valor_del_contrato\").cast(DecimalType(20,2)))\n",
    "        .withColumn(\"valor_pagado\", df_secop_std)\n",
    "        .select(\"Bpin\", \"valor_del_contrato\", \"valor_pagado\")\n",
    ")\n",
    "#Sacamos el valor total sin pagar\n",
    "top_10_contratos_sin_pagar_df = (\n",
    "    df_secop_norm_p3.groupBy(\"Bpin\")\n",
    "    .agg(\n",
    "        f.sum(\"valor_del_contrato\").alias(\"ValorTotalProyecto\"),\n",
    "        f.sum(f.coalesce(\"valor_pagado\", f.lit(0))).alias(\"ValorTotalPagado\")\n",
    "    )\n",
    "    .withColumn(\"ValorSinPagar\", f.col(\"ValorTotalProyecto\") - f.col(\"ValorTotalPagado\"))\n",
    ")\n",
    "#traemos el nombre del proyecto de df-bpin\n",
    "top_10_join = (\n",
    "    top_10_contratos_sin_pagar_df.join(df_bpin.select(\"Bpin\", \"NombreProyecto\"), on=\"Bpin\", how=\"left\")\n",
    "    .orderBy(f.col(\"ValorSinPagar\").desc_nulls_last())\n",
    "    .limit(10)\n",
    "    .select(\"Bpin\",\"ValorSinPagar\",\"NombreProyecto\")\n",
    ")\n",
    "display(top_10_join)"
   ]
  },
  {
   "cell_type": "markdown",
   "metadata": {
    "application/vnd.databricks.v1+cell": {
     "cellMetadata": {
      "byteLimit": 2048000,
      "rowLimit": 10000
     },
     "inputWidgets": {},
     "nuid": "6ce8de4d-29e6-4a22-b6f7-09727b6156d6",
     "showTitle": false,
     "tableResultSettingsMap": {},
     "title": ""
    }
   },
   "source": [
    "#Punto 4:\n",
    "Identifique para cada año el top 5 de los proveedores con mayor valor de contratos. La\n",
    "respuesta debe incluir el nombre de los proveedores, el valor de sus contratos y su\n",
    "posición en el top. (13%)"
   ]
  },
  {
   "cell_type": "code",
   "execution_count": 0,
   "metadata": {
    "application/vnd.databricks.v1+cell": {
     "cellMetadata": {
      "byteLimit": 2048000,
      "rowLimit": 10000
     },
     "inputWidgets": {},
     "nuid": "87432785-f340-47ea-9600-ad1c52b00785",
     "showTitle": false,
     "tableResultSettingsMap": {},
     "title": ""
    }
   },
   "outputs": [],
   "source": [
    "#Agrupamos por año y proveedor para realizar la agregación de los contratos calculando total valor contratos\n",
    "top_proveedores=(\n",
    "    df_secop.groupBy(\"anno_firma\", \"proveedor_adjudicado\")\n",
    "    .agg(f.sum(\"valor_del_contrato\").alias(\"total_valor_contratos\"))\n",
    ")\n",
    "#Establecemos una ventana  por año firma, ordenamos por valor total contratos\n",
    "window = Window.partitionBy(\"anno_firma\").orderBy(f.desc(\"total_valor_contratos\"))\n",
    "#Usamos row number para asignar un ranking a cada proveedor\n",
    "top5_proveedores=(\n",
    "    top_proveedores.withColumn(\"Ranking\", f.row_number().over(window))\n",
    "    .filter(f.col(\"Ranking\") <= 5)\n",
    ")\n",
    "display(top5_proveedores)\n"
   ]
  },
  {
   "cell_type": "markdown",
   "metadata": {
    "application/vnd.databricks.v1+cell": {
     "cellMetadata": {
      "byteLimit": 2048000,
      "rowLimit": 10000
     },
     "inputWidgets": {},
     "nuid": "e22262b9-925c-4a8a-ba9f-28b061cecc38",
     "showTitle": false,
     "tableResultSettingsMap": {},
     "title": ""
    }
   },
   "source": [
    "#Punto 5:\n",
    "Identifique el número de proveedores que firmaron contratos en el 2024 y NO firmaron\n",
    "contratos en el 2020. (13%)"
   ]
  },
  {
   "cell_type": "markdown",
   "metadata": {
    "application/vnd.databricks.v1+cell": {
     "cellMetadata": {
      "byteLimit": 2048000,
      "rowLimit": 10000
     },
     "inputWidgets": {},
     "nuid": "41b67e00-a9ea-4a1f-b273-d20e99b7c319",
     "showTitle": false,
     "tableResultSettingsMap": {},
     "title": ""
    }
   },
   "source": [
    "Primero exploramos por año cuantos contratos se han firmado, y asi ver cantidad de registros para 2024 y 2020"
   ]
  },
  {
   "cell_type": "code",
   "execution_count": 0,
   "metadata": {
    "application/vnd.databricks.v1+cell": {
     "cellMetadata": {
      "byteLimit": 2048000,
      "rowLimit": 10000
     },
     "inputWidgets": {},
     "nuid": "6769422e-572c-4e52-9e5b-149b5c6bc531",
     "showTitle": false,
     "tableResultSettingsMap": {},
     "title": ""
    }
   },
   "outputs": [],
   "source": [
    "#df_secop.count() # 4.447.723\n",
    "display(\n",
    "    df_secop    \n",
    "    .groupby(\"anno_firma\") # 2024 -> 901.609 || 2020->356.631\n",
    "    .agg(\n",
    "        f.count(\"anno_firma\").alias(\"total\")\n",
    "    )\n",
    "    .orderBy(f.asc(\"anno_firma\"))\n",
    ")"
   ]
  },
  {
   "cell_type": "markdown",
   "metadata": {
    "application/vnd.databricks.v1+cell": {
     "cellMetadata": {
      "byteLimit": 2048000,
      "rowLimit": 10000
     },
     "inputWidgets": {},
     "nuid": "54686f81-4b49-4111-a534-6f255e20f25e",
     "showTitle": false,
     "tableResultSettingsMap": {},
     "title": ""
    }
   },
   "source": [
    "Se realiza validacion y la mejor columna a trabajar es documento_proveedor, pues el nombre del prooveedor cambia varia veces con respecto a un mismo NIT, pero son temas mas de escritura, ademas que se optimiza la consulta en tiempos solo con documento"
   ]
  },
  {
   "cell_type": "code",
   "execution_count": 0,
   "metadata": {
    "application/vnd.databricks.v1+cell": {
     "cellMetadata": {
      "byteLimit": 2048000,
      "rowLimit": 10000
     },
     "inputWidgets": {},
     "nuid": "a2f721c9-6f9b-42a1-a82f-45316686c866",
     "showTitle": false,
     "tableResultSettingsMap": {},
     "title": ""
    }
   },
   "outputs": [],
   "source": [
    "df_val_proveedores_firma_2024 =  (\n",
    "    df_secop\n",
    "    .select(\"documento_proveedor\",\"proveedor_adjudicado\")\n",
    "    .where(\"anno_firma==2024\")\n",
    "    .groupby(\"documento_proveedor\",\"proveedor_adjudicado\")\n",
    "    .agg(\n",
    "        f.count(\"documento_proveedor\").alias(\"total_firmas\")\n",
    "    )\n",
    "    .orderBy(f.desc(\"total_firmas\"))\n",
    ")\n",
    "display(df_val_proveedores_firma_2024)"
   ]
  },
  {
   "cell_type": "markdown",
   "metadata": {
    "application/vnd.databricks.v1+cell": {
     "cellMetadata": {
      "byteLimit": 2048000,
      "rowLimit": 10000
     },
     "inputWidgets": {},
     "nuid": "587a81b9-1fb2-40b5-b7cf-9f59154b55fd",
     "showTitle": false,
     "tableResultSettingsMap": {},
     "title": ""
    }
   },
   "source": [
    "filtramos el df de firmas contratos 2024 y los documentos"
   ]
  },
  {
   "cell_type": "code",
   "execution_count": 0,
   "metadata": {
    "application/vnd.databricks.v1+cell": {
     "cellMetadata": {
      "byteLimit": 2048000,
      "rowLimit": 10000
     },
     "inputWidgets": {},
     "nuid": "2c784d1f-b70c-4b5e-817a-3ab6a8ae77a8",
     "showTitle": false,
     "tableResultSettingsMap": {},
     "title": ""
    }
   },
   "outputs": [],
   "source": [
    "df_proveedores_firma_2024 =  (\n",
    "    df_secop\n",
    "    .select(\"documento_proveedor\")\n",
    "    .where(\"anno_firma==2024\")\n",
    "    .groupby(\"documento_proveedor\")\n",
    "    .agg(\n",
    "        f.count(\"documento_proveedor\").alias(\"total_firmas\")\n",
    "    )\n",
    "    .orderBy(f.desc(\"total_firmas\"))\n",
    ")\n",
    "display(df_proveedores_firma_2024)"
   ]
  },
  {
   "cell_type": "markdown",
   "metadata": {
    "application/vnd.databricks.v1+cell": {
     "cellMetadata": {
      "byteLimit": 2048000,
      "rowLimit": 10000
     },
     "inputWidgets": {},
     "nuid": "b1949ca2-6275-4adc-bead-9cba055871d3",
     "showTitle": false,
     "tableResultSettingsMap": {},
     "title": ""
    }
   },
   "source": [
    "Bajo la misma logica filtramos el df de las firmas contrato 2020 por documento de proveedor"
   ]
  },
  {
   "cell_type": "code",
   "execution_count": 0,
   "metadata": {
    "application/vnd.databricks.v1+cell": {
     "cellMetadata": {
      "byteLimit": 2048000,
      "rowLimit": 10000
     },
     "inputWidgets": {},
     "nuid": "8f2b7246-7cba-42d3-a2bb-233b2a3ee832",
     "showTitle": false,
     "tableResultSettingsMap": {},
     "title": ""
    }
   },
   "outputs": [],
   "source": [
    "df_proveedores_firma_2020 =  (\n",
    "    df_secop\n",
    "    .select(\"documento_proveedor\")\n",
    "    .where(\"anno_firma==2020\")\n",
    "    .groupby(\"documento_proveedor\")\n",
    "    .agg(\n",
    "        f.count(\"documento_proveedor\").alias(\"total_firmas\")\n",
    "    )\n",
    "    .orderBy(f.desc(\"total_firmas\"))\n",
    ")\n",
    "display(df_proveedores_firma_2020)"
   ]
  },
  {
   "cell_type": "markdown",
   "metadata": {
    "application/vnd.databricks.v1+cell": {
     "cellMetadata": {
      "byteLimit": 2048000,
      "rowLimit": 10000
     },
     "inputWidgets": {},
     "nuid": "0d6e984b-8f50-4f7b-a8a7-8ee3fe17d9a1",
     "showTitle": false,
     "tableResultSettingsMap": {},
     "title": ""
    }
   },
   "source": [
    "y definimos el df \"proveedores_2024_NO_2020\" para encontrar los que firmaron contratos en 2024 y no en 2020, en total son 394.208 proveedores"
   ]
  },
  {
   "cell_type": "code",
   "execution_count": 0,
   "metadata": {
    "application/vnd.databricks.v1+cell": {
     "cellMetadata": {
      "byteLimit": 2048000,
      "rowLimit": 10000
     },
     "inputWidgets": {},
     "nuid": "e8437f1c-854b-4d9d-97fa-6d1e69c29c1e",
     "showTitle": false,
     "tableResultSettingsMap": {},
     "title": ""
    }
   },
   "outputs": [],
   "source": [
    "proveedores_2024_NO_2020 = (\n",
    "    df_proveedores_firma_2024\n",
    "    .join(df_proveedores_firma_2020, on=\"documento_proveedor\", how=\"leftanti\")\n",
    ")\n",
    "display(proveedores_2024_NO_2020.count())"
   ]
  },
  {
   "cell_type": "markdown",
   "metadata": {
    "application/vnd.databricks.v1+cell": {
     "cellMetadata": {
      "byteLimit": 2048000,
      "rowLimit": 10000
     },
     "inputWidgets": {},
     "nuid": "4e9fe012-daee-4455-abbd-875709cacc7d",
     "showTitle": false,
     "tableResultSettingsMap": {},
     "title": ""
    }
   },
   "source": [
    "entendiendo los datos, optimizamos el codigo para llegar mas eficientemente al numero final "
   ]
  },
  {
   "cell_type": "code",
   "execution_count": 0,
   "metadata": {
    "application/vnd.databricks.v1+cell": {
     "cellMetadata": {
      "byteLimit": 2048000,
      "rowLimit": 10000
     },
     "inputWidgets": {},
     "nuid": "ac2b757b-03ba-49b8-bff6-7bdb0647ad07",
     "showTitle": false,
     "tableResultSettingsMap": {},
     "title": ""
    }
   },
   "outputs": [],
   "source": [
    "from pyspark.sql.functions import col\n",
    "\n",
    "# 1. Obtener los proveedores únicos de cada año\n",
    "proveedores_2024 = df_secop.where(col(\"anno_firma\") == 2024).select(\"documento_proveedor\").distinct()\n",
    "proveedores_2020 = df_secop.where(col(\"anno_firma\") == 2020).select(\"documento_proveedor\").distinct()\n",
    "\n",
    "# 2. Realizar el left_anti join para encontrar los proveedores en 2024 que no están en 2020\n",
    "proveedores_no_en_2020 = proveedores_2024.join(\n",
    "    proveedores_2020,\n",
    "    on=\"documento_proveedor\",\n",
    "    how=\"left_anti\"\n",
    ")\n",
    "\n",
    "# 3. Contar el resultado\n",
    "num_proveedores = proveedores_no_en_2020.count()\n",
    "\n",
    "print(f\"El número de proveedores que firmaron contratos en 2024 y NO en 2020 es: {num_proveedores}\")"
   ]
  },
  {
   "cell_type": "markdown",
   "metadata": {
    "application/vnd.databricks.v1+cell": {
     "cellMetadata": {
      "byteLimit": 2048000,
      "rowLimit": 10000
     },
     "inputWidgets": {},
     "nuid": "c786293f-c9bf-4fde-9ac0-1385fc2e4030",
     "showTitle": false,
     "tableResultSettingsMap": {},
     "title": ""
    }
   },
   "source": [
    "#Punto 6:\n",
    "Calcule el valor promedio de los contratos de “Prestación de servicios” y una\n",
    "aproximación de la mediana (el percentil 50). Construya esta respuesta de manera que se\n",
    "minimice el tiempo de cálculo, aunque se sacrifique precisión. (13%)\n"
   ]
  },
  {
   "cell_type": "code",
   "execution_count": 0,
   "metadata": {
    "application/vnd.databricks.v1+cell": {
     "cellMetadata": {
      "byteLimit": 2048000,
      "rowLimit": 10000
     },
     "inputWidgets": {},
     "nuid": "4eba115e-263c-456f-8c07-0ca3d4ef1ea6",
     "showTitle": false,
     "tableResultSettingsMap": {},
     "title": ""
    }
   },
   "outputs": [],
   "source": [
    "display(\n",
    "    df_secop.filter(f.col(\"tipo_de_contrato\") == \"Prestación de servicios\")\n",
    "    .groupBy(\"tipo_de_contrato\")\n",
    "    .agg(\n",
    "        f.count(\"*\").alias(\"total_contratos\"),\n",
    "        f.sum(\"valor_del_contrato\").alias(\"suma_contratos\"),\n",
    "        f.avg(\"valor_del_contrato\").alias(\"promedio_contratos\"),\n",
    "        f.expr(\"percentile_approx(valor_del_contrato, 0.5)\").alias(\"mediana_contratos\")\n",
    "    )\n",
    ")"
   ]
  },
  {
   "cell_type": "markdown",
   "metadata": {
    "application/vnd.databricks.v1+cell": {
     "cellMetadata": {
      "byteLimit": 2048000,
      "rowLimit": 10000
     },
     "inputWidgets": {},
     "nuid": "dd67fdd5-867d-48b1-819a-408f1e43f7aa",
     "showTitle": false,
     "tableResultSettingsMap": {},
     "title": ""
    }
   },
   "source": [
    "#Punto 7:\n",
    "Cuál fue el año en el que firmaron contratos un mayor número de proveedores distintos.\n",
    "Construya esta respuesta de manera que se minimice el tiempo de cálculo, aunque se\n",
    "sacrifique precisión. (13%)"
   ]
  },
  {
   "cell_type": "code",
   "execution_count": 0,
   "metadata": {
    "application/vnd.databricks.v1+cell": {
     "cellMetadata": {
      "byteLimit": 2048000,
      "rowLimit": 10000
     },
     "inputWidgets": {},
     "nuid": "b149e252-04a8-4135-846f-7bc34de6701d",
     "showTitle": false,
     "tableResultSettingsMap": {},
     "title": ""
    }
   },
   "outputs": [],
   "source": [
    "display(\n",
    "    df_secop.groupBy(\"anno_firma\")\n",
    "    .agg(\n",
    "        f.countDistinct(\"documento_proveedor\").alias(\"proveedores_unicos\")\n",
    "    )\n",
    "    .orderBy(\"anno_firma\")\n",
    ")"
   ]
  },
  {
   "cell_type": "code",
   "execution_count": 0,
   "metadata": {
    "application/vnd.databricks.v1+cell": {
     "cellMetadata": {
      "byteLimit": 2048000,
      "rowLimit": 10000
     },
     "inputWidgets": {},
     "nuid": "fd890fb8-dc4a-4165-a39b-b9452421f55c",
     "showTitle": false,
     "tableResultSettingsMap": {},
     "title": ""
    }
   },
   "outputs": [],
   "source": [
    "display(\n",
    "    df_secop.filter(f.col(\"anno_firma\") >= 2015)\n",
    "    .groupBy(\"anno_firma\")\n",
    "    .agg(\n",
    "        f.countDistinct(\"documento_proveedor\").alias(\"proveedores_unicos\")\n",
    "    )\n",
    "    .orderBy(\"anno_firma\")\n",
    ")"
   ]
  },
  {
   "cell_type": "markdown",
   "metadata": {
    "application/vnd.databricks.v1+cell": {
     "cellMetadata": {
      "byteLimit": 2048000,
      "rowLimit": 10000
     },
     "inputWidgets": {},
     "nuid": "e35e48ac-8c51-4fb8-8cfb-ec7d3423506f",
     "showTitle": false,
     "tableResultSettingsMap": {},
     "title": ""
    }
   },
   "source": [
    "#Punto 8:\n",
    "Cuáles son las 20 palabras más comunes en los objetos contractuales del 20% de los\n",
    "contratos más altos del 2020. Para esta respuesta omita stopwords\n",
    "(https://en.wikipedia.org/wiki/Stop_word, https://pypi.org/project/stop-words/),\n",
    "puntuaciones y no diferencie entre mayúsculas y minúsculas. (13%)"
   ]
  },
  {
   "cell_type": "code",
   "execution_count": 0,
   "metadata": {
    "application/vnd.databricks.v1+cell": {
     "cellMetadata": {
      "byteLimit": 2048000,
      "rowLimit": 10000
     },
     "inputWidgets": {},
     "nuid": "df2358b3-6d55-4814-b7ae-3f56fd86c3d9",
     "showTitle": false,
     "tableResultSettingsMap": {},
     "title": ""
    }
   },
   "outputs": [],
   "source": [
    "pip install nltk"
   ]
  },
  {
   "cell_type": "code",
   "execution_count": 0,
   "metadata": {
    "application/vnd.databricks.v1+cell": {
     "cellMetadata": {
      "byteLimit": 2048000,
      "rowLimit": 10000
     },
     "inputWidgets": {},
     "nuid": "8470d439-000d-4a54-b69e-f0ecc4868d31",
     "showTitle": false,
     "tableResultSettingsMap": {},
     "title": ""
    }
   },
   "outputs": [],
   "source": [
    "df_words=(\n",
    "df_secop\n",
    ".select(f.lower(f.col(\"objeto_del_contrato\")).alias(\"text\"))\n",
    ".withColumn(\"word\", f.explode(f.split(f.col(\"text\"), r\"\\s+\")))\n",
    ".groupBy(\"word\")\n",
    ".count()\n",
    ".orderBy(f.desc(\"count\"))\n",
    ")\n",
    "\n",
    "df_words.display()"
   ]
  },
  {
   "cell_type": "code",
   "execution_count": 0,
   "metadata": {
    "application/vnd.databricks.v1+cell": {
     "cellMetadata": {
      "byteLimit": 2048000,
      "rowLimit": 10000
     },
     "inputWidgets": {},
     "nuid": "b475a8bc-f605-494e-982e-2cd732977f01",
     "showTitle": false,
     "tableResultSettingsMap": {},
     "title": ""
    }
   },
   "outputs": [],
   "source": [
    "from nltk.corpus import stopwords\n",
    "import nltk\n",
    "\n",
    "nltk.download('stopwords')\n",
    "# Cargar las stopwords en español a un conjunto para búsquedas más rápidas\n",
    "stop_words_es = set(stopwords.words('spanish'))\n",
    "\n",
    "rows = [w for w in stop_words_es]\n",
    "df_sw = spark.createDataFrame(rows, [\"word\"])"
   ]
  },
  {
   "cell_type": "code",
   "execution_count": 0,
   "metadata": {
    "application/vnd.databricks.v1+cell": {
     "cellMetadata": {
      "byteLimit": 2048000,
      "rowLimit": 10000
     },
     "inputWidgets": {},
     "nuid": "3512dc44-da56-4fff-b9a2-1d944ce45826",
     "showTitle": false,
     "tableResultSettingsMap": {},
     "title": ""
    }
   },
   "outputs": [],
   "source": [
    "df_sw.display()"
   ]
  },
  {
   "cell_type": "code",
   "execution_count": 0,
   "metadata": {
    "application/vnd.databricks.v1+cell": {
     "cellMetadata": {
      "byteLimit": 2048000,
      "rowLimit": 10000
     },
     "inputWidgets": {},
     "nuid": "7fd4fd51-3b66-4ef9-8b93-ddff03137d06",
     "showTitle": false,
     "tableResultSettingsMap": {
      "0": {
       "dataGridStateBlob": "{\"version\":1,\"tableState\":{\"columnPinning\":{\"left\":[\"#row_number#\"],\"right\":[]},\"columnSizing\":{},\"columnVisibility\":{}},\"settings\":{\"columns\":{}},\"syncTimestamp\":1758255564535}",
       "filterBlob": null,
       "queryPlanFiltersBlob": null,
       "tableResultIndex": 0
      }
     },
     "title": ""
    }
   },
   "outputs": [],
   "source": [
    "\n",
    "df_words.createOrReplaceTempView(\"df_words\")\n",
    "df_sw.createOrReplaceTempView(\"df_sw\")\n",
    "\n",
    "spark.sql(\"\"\"\n",
    "SELECT \n",
    "    w.*,\n",
    "    sw.*\n",
    "FROM df_words as w\n",
    "left join df_sw as sw\n",
    "on w.word = sw.word\n",
    "where sw.word is  NULL\n",
    "order by w.count DESC\n",
    "limit 20 \n",
    "\"\"\").display()"
   ]
  },
  {
   "cell_type": "code",
   "execution_count": 0,
   "metadata": {
    "application/vnd.databricks.v1+cell": {
     "cellMetadata": {},
     "inputWidgets": {},
     "nuid": "fd8668ec-24c5-420a-a46e-a17f2ca69fc0",
     "showTitle": false,
     "tableResultSettingsMap": {},
     "title": ""
    }
   },
   "outputs": [],
   "source": []
  }
 ],
 "metadata": {
  "application/vnd.databricks.v1+notebook": {
   "computePreferences": {
    "hardware": {
     "accelerator": null,
     "gpuPoolId": null,
     "memory": null
    }
   },
   "dashboards": [],
   "environmentMetadata": {
    "base_environment": "",
    "environment_version": "3"
   },
   "inputWidgetPreferences": null,
   "language": "python",
   "notebookMetadata": {
    "pythonIndentUnit": 4
   },
   "notebookName": "Solución Taller",
   "widgets": {}
  },
  "language_info": {
   "name": "python"
  }
 },
 "nbformat": 4,
 "nbformat_minor": 0
}
