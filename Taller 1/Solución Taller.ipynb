{
 "cells": [
  {
   "cell_type": "markdown",
   "metadata": {
    "application/vnd.databricks.v1+cell": {
     "cellMetadata": {},
     "inputWidgets": {},
     "nuid": "440b90b6-e9f5-41fb-8e1a-616305d24d5e",
     "showTitle": false,
     "tableResultSettingsMap": {},
     "title": ""
    }
   },
   "source": [
    "# Proyecto - Parte 1 \n",
    "## SID 2025-20\n",
    "\n",
    "| Estudiante | Codigo | Maestria |\n",
    "| :------- | :------: | -------: |\n",
    "| David Rodriguez | 201523585| MATI |\n",
    "| Jhony Donosso| 202322580 | MATI |\n",
    "| Nicolas Medina | 202322627 | MATI |\n",
    "\n",
    "a continuacion se detalla la solución planteada para la primera parte del proyecto"
   ]
  },
  {
   "cell_type": "markdown",
   "metadata": {
    "application/vnd.databricks.v1+cell": {
     "cellMetadata": {},
     "inputWidgets": {},
     "nuid": "fdf3a229-8ede-431a-9ddd-5b512e9b335e",
     "showTitle": false,
     "tableResultSettingsMap": {},
     "title": ""
    }
   },
   "source": [
    "## Importar librerias/Funciones"
   ]
  },
  {
   "cell_type": "code",
   "execution_count": 0,
   "metadata": {
    "application/vnd.databricks.v1+cell": {
     "cellMetadata": {
      "byteLimit": 2048000,
      "rowLimit": 10000
     },
     "inputWidgets": {},
     "nuid": "7cce7357-5eb6-4a90-8b8c-bffeaf6635ea",
     "showTitle": false,
     "tableResultSettingsMap": {},
     "title": ""
    }
   },
   "outputs": [],
   "source": [
    "from pyspark.sql import functions as f\n",
    "import pyspark.sql as sql\n",
    "from pyspark.sql.functions import explode, split, lower, col\n",
    "from pyspark.sql.window import Window\n",
    "from pyspark.sql.types import DecimalType"
   ]
  },
  {
   "cell_type": "markdown",
   "metadata": {
    "application/vnd.databricks.v1+cell": {
     "cellMetadata": {},
     "inputWidgets": {},
     "nuid": "a5b79a90-2aa8-4121-a443-0888abc7ad95",
     "showTitle": false,
     "tableResultSettingsMap": {},
     "title": ""
    }
   },
   "source": [
    "## Lectura de datos"
   ]
  },
  {
   "cell_type": "code",
   "execution_count": 0,
   "metadata": {
    "application/vnd.databricks.v1+cell": {
     "cellMetadata": {
      "byteLimit": 2048000,
      "rowLimit": 10000
     },
     "inputWidgets": {},
     "nuid": "a89b4336-650d-4f1b-b42f-fe2d46217646",
     "showTitle": false,
     "tableResultSettingsMap": {},
     "title": ""
    }
   },
   "outputs": [],
   "source": [
    "df_secop = spark.read.format(\"json\").load(\"wasbs://sid@uniandesyjt.blob.core.windows.net/secop/\")\n",
    "\n",
    "df_secop.printSchema()"
   ]
  },
  {
   "cell_type": "code",
   "execution_count": 0,
   "metadata": {
    "application/vnd.databricks.v1+cell": {
     "cellMetadata": {
      "byteLimit": 2048000,
      "rowLimit": 10000
     },
     "inputWidgets": {},
     "nuid": "ee4a3557-31e8-499a-aee0-eba04f0e726b",
     "showTitle": false,
     "tableResultSettingsMap": {},
     "title": ""
    }
   },
   "outputs": [],
   "source": [
    "df_bpin = spark.read.option(\"header\", \"true\").format(\"csv\").load(\"wasbs://sid@uniandesyjt.blob.core.windows.net/bpin/\")\n",
    "\n",
    "df_bpin.printSchema()"
   ]
  },
  {
   "cell_type": "code",
   "execution_count": 0,
   "metadata": {
    "application/vnd.databricks.v1+cell": {
     "cellMetadata": {
      "byteLimit": 2048000,
      "rowLimit": 10000
     },
     "inputWidgets": {},
     "nuid": "9cadb542-b4b7-4741-9ba3-5f81623daf9e",
     "showTitle": false,
     "tableResultSettingsMap": {
      "0": {
       "dataGridStateBlob": "{\"version\":1,\"tableState\":{\"columnPinning\":{\"left\":[\"#row_number#\"],\"right\":[]},\"columnSizing\":{},\"columnVisibility\":{}},\"settings\":{\"columns\":{\"urlproceso\":{\"format\":{\"preset\":\"string-preset-url\"}}}},\"syncTimestamp\":1757794985610}",
       "filterBlob": "{\"version\":1,\"filterGroups\":[],\"syncTimestamp\":1758253399677}",
       "queryPlanFiltersBlob": "[]",
       "tableResultIndex": 0
      }
     },
     "title": ""
    }
   },
   "outputs": [],
   "source": [
    "display(df_secop)"
   ]
  },
  {
   "cell_type": "code",
   "execution_count": 0,
   "metadata": {
    "application/vnd.databricks.v1+cell": {
     "cellMetadata": {
      "byteLimit": 2048000,
      "rowLimit": 10000
     },
     "inputWidgets": {},
     "nuid": "6b049dea-8cc5-480b-95c7-3b51fdf29095",
     "showTitle": false,
     "tableResultSettingsMap": {
      "0": {
       "dataGridStateBlob": null,
       "filterBlob": "{\"version\":1,\"filterGroups\":[{\"enabled\":true,\"filterGroupId\":\"fg_a0968740\",\"op\":\"OR\",\"filters\":[{\"filterId\":\"f_8956c631\",\"enabled\":true,\"columnId\":\"Bpin\",\"dataType\":\"string\",\"filterType\":\"oneof\"}],\"local\":false,\"updatedAt\":1758253393842},{\"enabled\":true,\"filterGroupId\":\"fg_bb91ace8\",\"op\":\"OR\",\"filters\":[{\"filterId\":\"f_4286b321\",\"enabled\":true,\"columnId\":\"ValorTotalProyecto\",\"dataType\":\"string\",\"filterType\":\"oneof\"}],\"local\":false,\"updatedAt\":1758253444702}],\"syncTimestamp\":1758253444702}",
       "queryPlanFiltersBlob": "[]",
       "tableResultIndex": 0
      }
     },
     "title": ""
    }
   },
   "outputs": [],
   "source": [
    "display(df_bpin)"
   ]
  },
  {
   "cell_type": "markdown",
   "metadata": {
    "application/vnd.databricks.v1+cell": {
     "cellMetadata": {},
     "inputWidgets": {},
     "nuid": "c087663b-8e05-4d67-9b40-592c2a88e446",
     "showTitle": false,
     "tableResultSettingsMap": {},
     "title": ""
    }
   },
   "source": [
    "# Punto 1:\n",
    "Lea los dos conjuntos de datos. Escriba el código para que la lectura sea lo más rápida\n",
    "posible y justifique su respuesta. (9%)"
   ]
  },
  {
   "cell_type": "code",
   "execution_count": 0,
   "metadata": {
    "application/vnd.databricks.v1+cell": {
     "cellMetadata": {},
     "inputWidgets": {},
     "nuid": "6cf83c62-50ed-4044-b91f-efa38ca23748",
     "showTitle": false,
     "tableResultSettingsMap": {},
     "title": ""
    }
   },
   "outputs": [],
   "source": []
  },
  {
   "cell_type": "markdown",
   "metadata": {
    "application/vnd.databricks.v1+cell": {
     "cellMetadata": {},
     "inputWidgets": {},
     "nuid": "3376d6de-db3a-48d2-98b8-1ec2fe8127c7",
     "showTitle": false,
     "tableResultSettingsMap": {},
     "title": ""
    }
   },
   "source": [
    "# Punto 2:\n",
    "Identifique los 10 proveedores que han tenido el mayor valor de contratos durante el año\n",
    "2024. (13%)"
   ]
  },
  {
   "cell_type": "code",
   "execution_count": 0,
   "metadata": {
    "application/vnd.databricks.v1+cell": {
     "cellMetadata": {
      "byteLimit": 2048000,
      "rowLimit": 10000
     },
     "inputWidgets": {},
     "nuid": "938b03d9-5462-4cfb-8334-072d94e55028",
     "showTitle": false,
     "tableResultSettingsMap": {},
     "title": ""
    }
   },
   "outputs": [],
   "source": [
    "top_10_proveedores_2024 = (\n",
    "    df_secop\n",
    "    .filter(f.year(f.col(\"fecha_de_firma\")) == 2024)\n",
    "    .groupBy(\"proveedor_adjudicado\")\n",
    "    .agg(f.sum(\"valor_del_contrato\").alias(\"total_valor_contrato\"))\n",
    "    .orderBy(f.desc(\"total_valor_contrato\"))\n",
    "    .limit(10)\n",
    ")\n",
    "\n",
    "display(top_10_proveedores_2024)"
   ]
  },
  {
   "cell_type": "markdown",
   "metadata": {
    "application/vnd.databricks.v1+cell": {
     "cellMetadata": {},
     "inputWidgets": {},
     "nuid": "65a8f679-cb32-4659-b831-be57edfa6c66",
     "showTitle": false,
     "tableResultSettingsMap": {},
     "title": ""
    }
   },
   "source": [
    "#Punto 3:\n",
    "Identifique los 10 Proyectos de inversión que han tenido el mayor valor de contratos sin\n",
    "pagar (valor del contrato menos el valor pagado). La respuesta debe incluir el nombre de\n",
    "los proyectos y el valor sin pagar. (13%)\n"
   ]
  },
  {
   "cell_type": "code",
   "execution_count": 0,
   "metadata": {
    "application/vnd.databricks.v1+cell": {
     "cellMetadata": {
      "byteLimit": 2048000,
      "rowLimit": 10000
     },
     "inputWidgets": {},
     "nuid": "6f9d4310-9096-4883-bb58-b40cbc28ddc4",
     "showTitle": false,
     "tableResultSettingsMap": {},
     "title": ""
    }
   },
   "outputs": [],
   "source": [
    "df_bpin_csp=df_bpin.withColumn(\"ValorContratosSinPagar\",col(\"ValorTotalProyecto\").cast(\"double\")-col(\"ValorPagoProyecto\").cast(\"double\"))\n",
    "top_10_contratos_sin_pagar_df=df_bpin_csp.groupBy(\"NombreProyecto\").agg(f.sum(\"ValorContratosSinPagar\").alias(\"ValorContratosSinPagar\")).orderBy(f.desc(\"ValorContratosSinPagar\")).limit(10)\n",
    "display(top_10_contratos_sin_pagar_df)"
   ]
  },
  {
   "cell_type": "code",
   "execution_count": 0,
   "metadata": {
    "application/vnd.databricks.v1+cell": {
     "cellMetadata": {
      "byteLimit": 2048000,
      "rowLimit": 10000
     },
     "inputWidgets": {},
     "nuid": "7325b9cd-61ee-4c67-a609-2dfc87595e9a",
     "showTitle": false,
     "tableResultSettingsMap": {},
     "title": ""
    }
   },
   "outputs": [],
   "source": [
    "df_secop_std = f.coalesce(f.col(\"valor_pagado\").cast(\"string\"), f.lit(\"0\")) #Estandarizamos los valores sin null por 0\n",
    "#Limpiamos digitos y signos\n",
    "df_secop_std = f.regexp_replace(df_secop_std, r\"[^0-9]\", \"\") #Quitamos espacios y $\n",
    "df_secop_std = f.regexp_replace(df_secop_std, \",\", \"\") #Quitamos la coma\n",
    "df_secop_std = df_secop_std.cast(DecimalType(20,2))\n",
    "\n",
    "#Generamos un df con la info necesaria\n",
    "df_secop_norm_p3 = (\n",
    "    df_secop\n",
    "        .withColumn(\"Bpin\", f.trim(f.col(\"código_bpin\"))).alias(\"Bpin\")\n",
    "        .withColumn(\"valor_del_contrato\", f.col(\"valor_del_contrato\").cast(DecimalType(20,2)))\n",
    "        .withColumn(\"valor_pagado\", df_secop_std)\n",
    "        .select(\"Bpin\", \"valor_del_contrato\", \"valor_pagado\")\n",
    ")\n",
    "#Sacamos el valor total sin pagar\n",
    "top_10_contratos_sin_pagar_df = (\n",
    "    df_secop_norm_p3.groupBy(\"Bpin\")\n",
    "    .agg(\n",
    "        f.sum(\"valor_del_contrato\").alias(\"ValorTotalProyecto\"),\n",
    "        f.sum(f.coalesce(\"valor_pagado\", f.lit(0))).alias(\"ValorTotalPagado\")\n",
    "    )\n",
    "    .withColumn(\"ValorSinPagar\", f.col(\"ValorTotalProyecto\") - f.col(\"ValorTotalPagado\"))\n",
    ")\n",
    "#traemos el nombre del proyecto de df-bpin\n",
    "top_10_join = (\n",
    "    top_10_contratos_sin_pagar_df.join(df_bpin.select(\"Bpin\", \"NombreProyecto\"), on=\"Bpin\", how=\"left\")\n",
    "    .orderBy(f.col(\"ValorSinPagar\").desc_nulls_last())\n",
    "    .limit(10)\n",
    "    .select(\"Bpin\",\"ValorSinPagar\",\"NombreProyecto\")\n",
    ")\n",
    "display(top_10_join)\n"
   ]
  },
  {
   "cell_type": "markdown",
   "metadata": {
    "application/vnd.databricks.v1+cell": {
     "cellMetadata": {},
     "inputWidgets": {},
     "nuid": "6ce8de4d-29e6-4a22-b6f7-09727b6156d6",
     "showTitle": false,
     "tableResultSettingsMap": {},
     "title": ""
    }
   },
   "source": [
    "#Punto 4:\n",
    "Identifique para cada año el top 5 de los proveedores con mayor valor de contratos. La\n",
    "respuesta debe incluir el nombre de los proveedores, el valor de sus contratos y su\n",
    "posición en el top. (13%)"
   ]
  },
  {
   "cell_type": "code",
   "execution_count": 0,
   "metadata": {
    "application/vnd.databricks.v1+cell": {
     "cellMetadata": {
      "byteLimit": 2048000,
      "rowLimit": 10000
     },
     "inputWidgets": {},
     "nuid": "87432785-f340-47ea-9600-ad1c52b00785",
     "showTitle": false,
     "tableResultSettingsMap": {},
     "title": ""
    }
   },
   "outputs": [],
   "source": [
    "#Agrupamos por año y proveedor para realizar la agregación de los contratos calculando total valor contratos\n",
    "top_proveedores=(\n",
    "    df_secop.groupBy(\"anno_firma\", \"proveedor_adjudicado\")\n",
    "    .agg(f.sum(\"valor_del_contrato\").alias(\"total_valor_contratos\"))\n",
    ")\n",
    "#Establecemos una ventana  por año firma, ordenamos por valor total contratos\n",
    "window = Window.partitionBy(\"anno_firma\").orderBy(f.desc(\"total_valor_contratos\"))\n",
    "#Usamos row number para asignar un ranking a cada proveedor\n",
    "top5_proveedores=(\n",
    "    top_proveedores.withColumn(\"Ranking\", f.row_number().over(window))\n",
    "    .filter(f.col(\"Ranking\") <= 5)\n",
    ")\n",
    "display(top5_proveedores)\n"
   ]
  },
  {
   "cell_type": "markdown",
   "metadata": {
    "application/vnd.databricks.v1+cell": {
     "cellMetadata": {},
     "inputWidgets": {},
     "nuid": "e22262b9-925c-4a8a-ba9f-28b061cecc38",
     "showTitle": false,
     "tableResultSettingsMap": {},
     "title": ""
    }
   },
   "source": [
    "#Punto 5:\n",
    "Identifique el número de proveedores que firmaron contratos en el 2024 y NO firmaron\n",
    "contratos en el 2020. (13%)"
   ]
  },
  {
   "cell_type": "code",
   "execution_count": 0,
   "metadata": {
    "application/vnd.databricks.v1+cell": {
     "cellMetadata": {},
     "inputWidgets": {},
     "nuid": "43252320-c62b-40d2-bc92-2641d5a90a7f",
     "showTitle": false,
     "tableResultSettingsMap": {},
     "title": ""
    }
   },
   "outputs": [],
   "source": []
  },
  {
   "cell_type": "markdown",
   "metadata": {
    "application/vnd.databricks.v1+cell": {
     "cellMetadata": {},
     "inputWidgets": {},
     "nuid": "c786293f-c9bf-4fde-9ac0-1385fc2e4030",
     "showTitle": false,
     "tableResultSettingsMap": {},
     "title": ""
    }
   },
   "source": [
    "#Punto 6:\n",
    "Calcule el valor promedio de los contratos de “Prestación de servicios” y una\n",
    "aproximación de la mediana (el percentil 50). Construya esta respuesta de manera que se\n",
    "minimice el tiempo de cálculo, aunque se sacrifique precisión. (13%)\n"
   ]
  },
  {
   "cell_type": "code",
   "execution_count": 0,
   "metadata": {
    "application/vnd.databricks.v1+cell": {
     "cellMetadata": {},
     "inputWidgets": {},
     "nuid": "4eba115e-263c-456f-8c07-0ca3d4ef1ea6",
     "showTitle": false,
     "tableResultSettingsMap": {},
     "title": ""
    }
   },
   "outputs": [],
   "source": []
  },
  {
   "cell_type": "markdown",
   "metadata": {
    "application/vnd.databricks.v1+cell": {
     "cellMetadata": {},
     "inputWidgets": {},
     "nuid": "dd67fdd5-867d-48b1-819a-408f1e43f7aa",
     "showTitle": false,
     "tableResultSettingsMap": {},
     "title": ""
    }
   },
   "source": [
    "#Punto 7:\n",
    "Cuál fue el año en el que firmaron contratos un mayor número de proveedores distintos.\n",
    "Construya esta respuesta de manera que se minimice el tiempo de cálculo, aunque se\n",
    "sacrifique precisión. (13%)"
   ]
  },
  {
   "cell_type": "code",
   "execution_count": 0,
   "metadata": {
    "application/vnd.databricks.v1+cell": {
     "cellMetadata": {},
     "inputWidgets": {},
     "nuid": "b149e252-04a8-4135-846f-7bc34de6701d",
     "showTitle": false,
     "tableResultSettingsMap": {},
     "title": ""
    }
   },
   "outputs": [],
   "source": []
  },
  {
   "cell_type": "markdown",
   "metadata": {
    "application/vnd.databricks.v1+cell": {
     "cellMetadata": {},
     "inputWidgets": {},
     "nuid": "e35e48ac-8c51-4fb8-8cfb-ec7d3423506f",
     "showTitle": false,
     "tableResultSettingsMap": {},
     "title": ""
    }
   },
   "source": [
    "#Punto 8:\n",
    "Cuáles son las 20 palabras más comunes en los objetos contractuales del 20% de los\n",
    "contratos más altos del 2020. Para esta respuesta omita stopwords\n",
    "(https://en.wikipedia.org/wiki/Stop_word, https://pypi.org/project/stop-words/),\n",
    "puntuaciones y no diferencie entre mayúsculas y minúsculas. (13%)"
   ]
  },
  {
   "cell_type": "code",
   "execution_count": 0,
   "metadata": {
    "application/vnd.databricks.v1+cell": {
     "cellMetadata": {},
     "inputWidgets": {},
     "nuid": "8470d439-000d-4a54-b69e-f0ecc4868d31",
     "showTitle": false,
     "tableResultSettingsMap": {},
     "title": ""
    }
   },
   "outputs": [],
   "source": []
  }
 ],
 "metadata": {
  "application/vnd.databricks.v1+notebook": {
   "computePreferences": {
    "hardware": {
     "accelerator": null,
     "gpuPoolId": null,
     "memory": null
    }
   },
   "dashboards": [],
   "environmentMetadata": {
    "base_environment": "",
    "environment_version": "3"
   },
   "inputWidgetPreferences": null,
   "language": "python",
   "notebookMetadata": {
    "pythonIndentUnit": 4
   },
   "notebookName": "Solución Taller",
   "widgets": {}
  },
  "language_info": {
   "name": "python"
  }
 },
 "nbformat": 4,
 "nbformat_minor": 0
}
